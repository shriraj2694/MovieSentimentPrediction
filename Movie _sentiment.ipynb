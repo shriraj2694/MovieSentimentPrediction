{
 "cells": [
  {
   "cell_type": "code",
   "execution_count": 1,
   "id": "7bb215c7-aa9e-47ae-9931-c8f26c2210c5",
   "metadata": {},
   "outputs": [],
   "source": [
    "import numpy as np\n",
    "import pandas as pd\n",
    "import re\n",
    "from nltk.corpus import stopwords\n",
    "from nltk.tokenize import word_tokenize\n",
    "from nltk.stem import SnowballStemmer\n",
    "from sklearn.model_selection import train_test_split\n",
    "from tensorflow.keras.preprocessing.text import Tokenizer\n",
    "from tensorflow.keras.preprocessing.sequence import pad_sequences\n",
    "from tensorflow.keras.models import Sequential, load_model\n",
    "from tensorflow.keras.layers import Embedding, LSTM, Dense, Dropout, BatchNormalization\n",
    "from tensorflow.keras.optimizers import Adam\n",
    "from sklearn.metrics import accuracy_score\n",
    "import matplotlib.pyplot as plt\n",
    "import joblib\n",
    "import nltk\n",
    "\n"
   ]
  },
  {
   "cell_type": "code",
   "execution_count": 3,
   "id": "ce430358-9a1b-4f03-be9a-f5341a580a23",
   "metadata": {},
   "outputs": [
    {
     "name": "stderr",
     "output_type": "stream",
     "text": [
      "[nltk_data] Downloading package stopwords to\n",
      "[nltk_data]     C:\\Users\\Shriraj\\AppData\\Roaming\\nltk_data...\n",
      "[nltk_data]   Package stopwords is already up-to-date!\n",
      "[nltk_data] Downloading package punkt to\n",
      "[nltk_data]     C:\\Users\\Shriraj\\AppData\\Roaming\\nltk_data...\n",
      "[nltk_data]   Package punkt is already up-to-date!\n"
     ]
    },
    {
     "data": {
      "text/plain": [
       "True"
      ]
     },
     "execution_count": 3,
     "metadata": {},
     "output_type": "execute_result"
    }
   ],
   "source": [
    "# Download necessary NLTK resources\n",
    "nltk.download('stopwords')\n",
    "nltk.download('punkt')\n"
   ]
  },
  {
   "cell_type": "code",
   "execution_count": 5,
   "id": "c2444329-f8e8-450d-b92e-ce218ed95598",
   "metadata": {},
   "outputs": [],
   "source": [
    "# Load dataset\n",
    "dataset = pd.read_csv('C:/Users/Shriraj/Desktop/VIT ty/ANN/IMDB.csv')"
   ]
  },
  {
   "cell_type": "code",
   "execution_count": 7,
   "id": "6b261dfd-8514-4395-9105-06e053eae400",
   "metadata": {},
   "outputs": [
    {
     "name": "stderr",
     "output_type": "stream",
     "text": [
      "C:\\Users\\Shriraj\\AppData\\Local\\Temp\\ipykernel_22856\\2651046905.py:2: FutureWarning: Downcasting behavior in `replace` is deprecated and will be removed in a future version. To retain the old behavior, explicitly call `result.infer_objects(copy=False)`. To opt-in to the future behavior, set `pd.set_option('future.no_silent_downcasting', True)`\n",
      "  dataset['sentiment'] = dataset['sentiment'].replace({'positive': 1, 'negative': 0})\n"
     ]
    }
   ],
   "source": [
    "\n",
    "# Fixing the warning for chained assignment\n",
    "dataset['sentiment'] = dataset['sentiment'].replace({'positive': 1, 'negative': 0})\n"
   ]
  },
  {
   "cell_type": "code",
   "execution_count": 9,
   "id": "3faa78a5-6b04-4904-b42f-5f4ffad656c3",
   "metadata": {},
   "outputs": [],
   "source": [
    "# Data Cleaning Functions\n",
    "# Remove HTML tags, special characters, convert to lowercase, remove stopwords, and stem words\n",
    "def clean(text):\n",
    "    cleaned = re.compile(r'<.*?>')\n",
    "    return re.sub(cleaned, '', text)\n",
    "\n",
    "def is_special(text):\n",
    "    return re.sub(r'[^a-zA-Z\\s]', '', text)\n",
    "\n",
    "def to_lower(text):\n",
    "    return text.lower()"
   ]
  },
  {
   "cell_type": "code",
   "execution_count": 11,
   "id": "6beb49ee-4c97-4285-9046-ba5e9c7689ff",
   "metadata": {},
   "outputs": [
    {
     "name": "stdout",
     "output_type": "stream",
     "text": [
      "After removing HTML tags:\n",
      " 0    One of the other reviewers has mentioned that ...\n",
      "1    A wonderful little production. The filming tec...\n",
      "2    I thought this was a wonderful way to spend ti...\n",
      "3    Basically there's a family where a little boy ...\n",
      "4    Petter Mattei's \"Love in the Time of Money\" is...\n",
      "Name: cleaned_review, dtype: object \n",
      "\n"
     ]
    }
   ],
   "source": [
    "#  Remove HTML tags\n",
    "dataset['cleaned_review'] = dataset['review'].apply(clean)\n",
    "print(\"After removing HTML tags:\\n\", dataset['cleaned_review'].head(), \"\\n\")\n"
   ]
  },
  {
   "cell_type": "code",
   "execution_count": 13,
   "id": "ee40272b-d78e-4e17-a388-3059208b48e8",
   "metadata": {},
   "outputs": [
    {
     "name": "stdout",
     "output_type": "stream",
     "text": [
      "After removing special characters:\n",
      " 0    One of the other reviewers has mentioned that ...\n",
      "1    A wonderful little production The filming tech...\n",
      "2    I thought this was a wonderful way to spend ti...\n",
      "3    Basically theres a family where a little boy J...\n",
      "4    Petter Matteis Love in the Time of Money is a ...\n",
      "Name: cleaned_review, dtype: object \n",
      "\n"
     ]
    }
   ],
   "source": [
    "#  Remove special characters\n",
    "dataset['cleaned_review'] = dataset['cleaned_review'].apply(is_special)\n",
    "print(\"After removing special characters:\\n\", dataset['cleaned_review'].head(), \"\\n\")\n"
   ]
  },
  {
   "cell_type": "code",
   "execution_count": 14,
   "id": "de3d5657-028a-48e2-b0d1-89c1422bc45f",
   "metadata": {},
   "outputs": [
    {
     "name": "stdout",
     "output_type": "stream",
     "text": [
      "After converting to lowercase:\n",
      " 0    one of the other reviewers has mentioned that ...\n",
      "1    a wonderful little production the filming tech...\n",
      "2    i thought this was a wonderful way to spend ti...\n",
      "3    basically theres a family where a little boy j...\n",
      "4    petter matteis love in the time of money is a ...\n",
      "Name: cleaned_review, dtype: object \n",
      "\n"
     ]
    }
   ],
   "source": [
    "# Convert to lowercase\n",
    "dataset['cleaned_review'] = dataset['cleaned_review'].apply(to_lower)\n",
    "print(\"After converting to lowercase:\\n\", dataset['cleaned_review'].head(), \"\\n\")\n"
   ]
  },
  {
   "cell_type": "code",
   "execution_count": 17,
   "id": "b5a0b85c-36e3-40b0-9ac6-413a2b81caa4",
   "metadata": {},
   "outputs": [
    {
     "name": "stdout",
     "output_type": "stream",
     "text": [
      "Average number of words per review: 225\n",
      "Minimum number of words in a review: 4\n",
      "Maximum number of words in a review: 2441\n"
     ]
    }
   ],
   "source": [
    "# Calculate the number of words in each review (before removing stopwords)\n",
    "dataset['word_count'] = dataset['cleaned_review'].apply(lambda x: len(x.split()))\n",
    "\n",
    "# Calculate statistics: average, min, and max word count\n",
    "avg_word_count = dataset['word_count'].mean()\n",
    "min_word_count = dataset['word_count'].min()\n",
    "max_word_count = dataset['word_count'].max()\n",
    "\n",
    "# Print the statistics\n",
    "print(f\"Average number of words per review: {round(avg_word_count)}\")\n",
    "print(f\"Minimum number of words in a review: {min_word_count}\")\n",
    "print(f\"Maximum number of words in a review: {max_word_count}\")"
   ]
  },
  {
   "cell_type": "code",
   "execution_count": 18,
   "id": "8b5e550b-5f1e-4306-8d6e-f3a3f25fd95b",
   "metadata": {},
   "outputs": [],
   "source": [
    "# Print the review with the least and most words\n",
    "review_with_least_words = dataset.loc[dataset['word_count'].idxmin()]['cleaned_review']\n",
    "review_with_most_words = dataset.loc[dataset['word_count'].idxmax()]['cleaned_review']\n"
   ]
  },
  {
   "cell_type": "code",
   "execution_count": 21,
   "id": "ddcaad14-792d-41e9-b089-1d845e1d92ff",
   "metadata": {},
   "outputs": [
    {
     "name": "stdout",
     "output_type": "stream",
     "text": [
      "\n",
      "Review with the least words:\n",
      " primary plotprimary directionpoor interpretation\n"
     ]
    }
   ],
   "source": [
    "print(\"\\nReview with the least words:\\n\", review_with_least_words)"
   ]
  },
  {
   "cell_type": "code",
   "execution_count": 23,
   "id": "b5071dfd-2515-4b80-9cc8-02b417d36ae8",
   "metadata": {},
   "outputs": [
    {
     "name": "stdout",
     "output_type": "stream",
     "text": [
      "\n",
      "Review with the most words:\n",
      " match  tag team table match bubba ray and spike dudley vs eddie guerrero and chris benoit bubba ray and spike dudley started things off with a tag team table match against eddie guerrero and chris benoit according to the rules of the match both opponents have to go through tables in order to get the win benoit and guerrero heated up early on by taking turns hammering first spike and then bubba ray a german suplex by benoit to bubba took the wind out of the dudley brother spike tried to help his brother but the referee restrained him while benoit and guerrero ganged up on him in the corner with benoit stomping away on bubba guerrero set up a table outside spike dashed into the ring and somersaulted over the top rope onto guerrero on the outside after recovering and taking care of spike guerrero slipped a table into the ring and helped the wolverine set it up the tandem then set up for a double superplex from the middle rope which would have put bubba through the table but spike knocked the table over right before his brother came crashing down guerrero and benoit propped another table in the corner and tried to irish whip spike through it but bubba dashed in and blocked his brother bubba caught fire and lifted both opponents into back body drops bubba slammed guerrero and spike stomped on the wolverine from off the top rope bubba held benoit at bay for spike to soar into the wassup headbutt shortly after benoit latched spike in the crossface but the match continued even after spike tapped out bubba came to his brothers rescue and managed to sprawl benoit on a table bubba leapt from the middle rope but benoit moved and sent bubba crashing through the wood but because his opponents didnt force him through the table bubba was allowed to stay in the match the first man was eliminated shortly after though as spike put eddie through a table with a dudley dawg from the ring apron to the outside benoit put spike through a table moments later to even the score within seconds bubba nailed a bubba bomb that put benoit through a table and gave the dudleys the win winner bubba ray and spike dudleymatch  cruiserweight championship jamie noble vs billy kidman billy kidman challenged jamie noble who brought nidia with him to the ring for the cruiserweight championship noble and kidman locked up and tumbled over the ring but raced back inside and grappled some more when kidman thwarted all nobles moves noble fled outside the ring where nidia gave him some encouragement the fight spread outside the ring and noble threw his girlfriend into the challenger kidman tossed nidia aside but was taken down with a modified arm bar noble continued to attack kidmans injured arm back in the ring kidmans injured harm hampered his offense but he continued to battle hard noble tried to put kidman away with a powerbomb but the challenger countered into a facebuster kidman went to finish things with a shooting star press but noble broke up the attempt kidman went for the shooting star press again but this time noble just rolled out of harms way noble flipped kidman into a power bomb soon after and got the pin to retain his wwe cruiserweight championship winner jamie noblematch  european championship william regal vs jeff hardy william regal took on jeff hardy next in an attempt to win back the european championship jeff catapulted regal over the top rope then took him down with a hurracanrana off the ring apron back in the ring jeff hit the whisper in the wind to knock regal for a loop jeff went for the swanton bomb but regal got his knees up to hit jeff with a devastating shot jeff managed to surprise regal with a quick rollup though and got the pin to keep the european championship regal started bawling at seeing hardy celebrate on his way back up the ramp winner jeff hardymatch  chris jericho vs john cena chris jericho had promised to end john cenas career in their match at vengeance which came up next jericho tried to teach cena a lesson as their match began by suplexing him to the mat jericho continued to knock cena around the ring until his cockiness got the better of him while on the top rope jericho began to showboat and allowed cena to grab him for a superplex cena followed with a tiltawhirl slam but was taken down with a nasty dropkick to the gut the rookie recovered and hit a belly to belly suplex but couldnt put yj away jericho launched into the lionsault but cena dodged the move jericho nailed a bulldog and then connected on the lionsault but did not go for the cover he goaded cena to his feet so he could put on the walls of jericho cena had other ideas reversing the move into a pin attempt and getting the  jericho went berserk after the match winner john cenamatch  intercontinental championship rvd vs brock lesnar via disqualification the next big thing and mr payperview tangled with the intercontinental championship on the line brock grabbed the title from the ref and draped it over his shoulder momentarily while glaring at rvd van dam s quickness gave brock fits early on the big man rolled out of the ring and kicked the steel steps out of frustration brock pulled himself together and began to take charge with paul heyman beaming at ringside brock slammed rvd to the hard floor outside the ring from there brock began to overpower rvd throwing him with ease over the top rope rvd landed painfully on his back then had to suffer from having his spine cracked against the steel ring steps the fight returned to the ring with brock squeezing rvd around the ribs rvd broke away and soon after leveled brock with a kick to the temple rvd followed with the rolling thunder but brock managed to kick out after a twocount the fight looked like it might be over soon as rvd went for a fivestar frog splash brock though hoisted van dam onto his shoulder and went for the f but rvd whirled brock into a ddt and followed with the frog splash he went for the pin but heyman pulled the ref from the ring the ref immediately called for a disqualification and soon traded blows with heyman after rvd leapt onto brock from the top rope and then threatened to hit the van terminator heyman grabbed rvds leg and brock picked up the champ and this time connected with the f onto a steel chair winner rvdmatch  booker t vs the big show booker t faced the big show oneonone next show withstood booker ts kicks and punches and slapped booker into the corner after being thrown from the ring booker picked up a chair at ringside but big show punched it back into bookers face booker tried to get back into the game by choking show with a camera cable at ringside booker smashed a tv monitor from the spanish announcers position into shows skull then delivered a scissors kick that put both men through the table booker crawled back into the ring and big show staggered in moments later show grabbed bookers throat but was met by a low blow and a kick to the face booker climbed the top rope and nailed a somersaulting leg drop to get the pin winner booker tannouncement triple h entered the ring to a thunderous ovation as fans hoped to learn where the game would end up competing before he could speak eric bishoff stopped the game to apologize for getting involved in his personal business if triple h signed with raw bischoff promised his personal life would never come into play again bischoff said hes spent the past two years networking in hollywood he said everyone was looking for the next breakout wwe superstar and they were all talking about triple h bischoff guaranteed that if triple h signed with raw hed be getting top opportunities coming his way stephanie mcmahon stepped out to issue her own pitch she said that because of her personal history with triple h the two of them know each other very well she said the two of them were once unstoppable and they can be again bischoff cut her off and begged her to stop stephanie cited that triple h once told her how bischoff said triple h had no talent and no charisma bischoff said he was young at the time and didnt know what he had but he still has a lot more experience that stephanie the two continued to bicker back and forth until triple h stepped up with his microphone the game said it would be easy to say screw you to either one of them triple h went to shake bischoffs hand but pulled it away he said he would rather go with the devil he knows rather than the one he doesnt know before he could go any further though shawn michaels came out to shake things up hbk said the last thing he wanted to do was cause any trouble he didnt want to get involved but he remembered pledging to bring triple h to the nwo hbk said theres nobody in the world that triple h is better friends with hbk told his friend to imagine the two back together again making bischoffs life a living hell triple h said that was a tempting offer he then turned and hugged hbk making official his switch to raw triple h and hbk left and bischoff gloated over his victory bischoff said the difference between the two of them is that hes got testicles and she doesnt stephanie whacked bischoff on the side of the head and leftmatch  tag team championship match christian and lance storm vs hollywood hogan and edge the match started with loud usa chants and with hogan shoving christian through the ropes and out of the ring the canadians took over from there but edge scored a kick to christians head and planted a facebuster on storm to get the tag to hogan hogan began to hulk up and soon caught christian with a big boot and a leg drop storm broke up the count and christian tossed hogan from the ring where storm superkicked the icon edge tagged in soon after and dropped both opponents he speared both of them into the corner turnbuckles but missed a spear on strom and hit the ref hard instead edge nailed a ddt but the ref was down and could not count test raced down and took down hogan then leveled edge with a boot storm tried to get the pin but edge kicked out after two riksihi sprinted in to fend off test allowing edge to recover and spear storm christian distracted the ref though and yj dashed in and clocked edge with the tag team championship storm rolled over and got the pinfall to win the title winners and new tag team champions christian and lance stormmatch  wwe undisputed championship triple threat match the rock vs kurt angle and the undertaker three of wwes most successful superstars lined up against each other in a triple threat match with the undisputed championship hanging in the balance taker and the rock got face to face with kurt angle begging for some attention off to the side he got attention in the form of a beat down form the two other men soon after taker spilled out of the ring and the rock brawled with angle angle gave a series of suplexes that took down rock but the great one countered with a ddt that managed a twocount the fight continued outside the ring with taker coming to life and clotheslining angle and repeatedly smacking the rock taker and rock got into it back into the ring and taker dropped the rock with a sidewalk slam to get a twocount rock rebounded grabbed taker by the throat and chokeslammed him angle broke up the pin attempt that likely would have given the rock the title the rock retaliated by latching on the ankle lock to kurt angle angle reversed the move and rock bottomed the peoples champion soon after the rock disposed of angle and hit the peoples elbow on the undertaker angle tried to take advantage by disabling the great one outside the ring and covering taker who kicked out after a two count outside the ring rock took a big swig from a nearby water bottle and spewed the liquid into takers face to blind the champion taker didnt stay disabled for long and managed to overpower rock and turn his attention to angle taker landed a guillotine leg drop onto angle laying on the ring apron the rock picked himself up just in time to break up a pin attempt on kurt angle taker nailed rock with a ddt and set him up for a chokeslam angle tried sneaking up with a steel chair but taker caught on to that tomfoolery and smacked it out of his hands the referee got caught in the ensuing fire and didnt see angle knock taker silly with a steel chair angle went to cover taker as the rock lay prone but the dead man somehow got his shoulder up angle tried to pin rock but he too kicked out the rock got up and landed angle in the sharpshooter angle looked like he was about to tap but taker kicked the rock out of the submission hold taker picked rock up and crashed him with the last ride while the dead man covered him for the win angle raced in and picked taker up in the ankle lock taker went delirious with pain but managed to counter he picked angle up for the last ride but angle put on a triangle choke it looked like taker was about to pass out but the rock broke angles hold only to find himself caught in the ankle lock rock got out of the hold and watched taker chokeslam angle rocky hit the rock bottom but taker refused to go down and kicked out angle whirled taker up into the angle slam but was rock bottomed by the great one and pinned winner and new wwe champion the rockfinally there is a decent ppv lately the ppv werent very good but this one was a winner i give this ppv a a\n"
     ]
    }
   ],
   "source": [
    "print(\"\\nReview with the most words:\\n\", review_with_most_words)"
   ]
  },
  {
   "cell_type": "code",
   "execution_count": 25,
   "id": "282d7378-ed84-4c01-9568-a0c7f55a1613",
   "metadata": {},
   "outputs": [],
   "source": [
    "# Remove stopwords and stem words\n",
    "def rem_stopwords(text):\n",
    "    stop_words = set(stopwords.words('english'))\n",
    "    words = word_tokenize(text)\n",
    "    return ' '.join([w for w in words if w not in stop_words])\n",
    "\n",
    "def stem_txt(text):\n",
    "    ss = SnowballStemmer('english')\n",
    "    return \" \".join([ss.stem(w) for w in text.split()])\n"
   ]
  },
  {
   "cell_type": "code",
   "execution_count": 27,
   "id": "32fd8190-3cf3-44d6-aaf6-c427581d307f",
   "metadata": {},
   "outputs": [],
   "source": [
    "# Final text cleaning with stopwords removal and stemming\n",
    "dataset['review'] = dataset['cleaned_review'].apply(rem_stopwords).apply(stem_txt)\n"
   ]
  },
  {
   "cell_type": "code",
   "execution_count": 29,
   "id": "5752175f-f6ba-4121-9293-35b60f292c51",
   "metadata": {},
   "outputs": [],
   "source": [
    "# Tokenization and Padding for LSTM\n",
    "tokenizer = Tokenizer(num_words=5000)\n",
    "tokenizer.fit_on_texts(dataset['review'])\n",
    "\n",
    "X = tokenizer.texts_to_sequences(dataset['review'])\n",
    "X = pad_sequences(X, maxlen=250)\n",
    "y = np.array(dataset['sentiment'])\n"
   ]
  },
  {
   "cell_type": "code",
   "execution_count": 30,
   "id": "33fcda0a-a7fb-47ac-b474-02582b1ebb9a",
   "metadata": {},
   "outputs": [],
   "source": [
    "# Train-test Split (20% test, 80% train)\n",
    "X_train, X_test, y_train, y_test = train_test_split(X, y, test_size=0.2, random_state=9)"
   ]
  },
  {
   "cell_type": "code",
   "execution_count": 59,
   "id": "bbcc0cd3-ad97-45a8-b7fb-943448dfcaff",
   "metadata": {},
   "outputs": [
    {
     "name": "stdout",
     "output_type": "stream",
     "text": [
      "Train size (X_train): 40000\n",
      "Test size (X_test): 10000\n"
     ]
    }
   ],
   "source": [
    "# Print the sizes of the train and test sets\n",
    "print(f\"Train size (X_train): {X_train.shape[0]}\")\n",
    "print(f\"Test size (X_test): {X_test.shape[0]}\")"
   ]
  },
  {
   "cell_type": "code",
   "execution_count": 61,
   "id": "182116dd-4697-467c-80bf-13f139b4f748",
   "metadata": {},
   "outputs": [],
   "source": [
    "# LSTM Model Creation with recommended activation functions\n",
    "model = Sequential()"
   ]
  },
  {
   "cell_type": "code",
   "execution_count": null,
   "id": "4a3eb3eb-1a82-48dd-869b-900805007da4",
   "metadata": {},
   "outputs": [],
   "source": [
    "# Embedding Layer\n",
    "model.add(Embedding(input_dim=5000, output_dim=128, input_length=100)"
   ]
  },
  {
   "cell_type": "code",
   "execution_count": 65,
   "id": "1cf0f1ed-0c54-4cd8-bff3-caff1420e5d8",
   "metadata": {},
   "outputs": [],
   "source": [
    "# LSTM Layer with tanh activation (default for LSTM)\n",
    "model.add(LSTM(128, dropout=0.2, recurrent_dropout=0.2))\n"
   ]
  },
  {
   "cell_type": "code",
   "execution_count": 67,
   "id": "6172cbeb-2c17-4cb6-89ea-18dc84591c01",
   "metadata": {},
   "outputs": [],
   "source": [
    "# First Dense Layer with relu activation and Batch Normalization\n",
    "model.add(Dense(128, activation='relu'))\n",
    "model.add(BatchNormalization())\n",
    "model.add(Dropout(0.5))\n"
   ]
  },
  {
   "cell_type": "code",
   "execution_count": 69,
   "id": "cf6d1747-e1a1-4874-bc1b-433d0833d8b7",
   "metadata": {},
   "outputs": [],
   "source": [
    "# Second Dense Layer with relu activation and Batch Normalization\n",
    "model.add(Dense(64, activation='relu'))\n",
    "model.add(BatchNormalization())\n",
    "model.add(Dropout(0.5))"
   ]
  },
  {
   "cell_type": "code",
   "execution_count": 71,
   "id": "74d64593-e8e2-484d-895a-e7ce4fab2007",
   "metadata": {},
   "outputs": [],
   "source": [
    "# Third Dense Layer with relu activation and Batch Normalization\n",
    "model.add(Dense(32, activation='relu'))\n",
    "model.add(BatchNormalization())"
   ]
  },
  {
   "cell_type": "code",
   "execution_count": 73,
   "id": "c754a88c-2be9-4d9b-a7eb-123e31577f83",
   "metadata": {},
   "outputs": [],
   "source": [
    "# Output Layer with sigmoid activation for binary classification\n",
    "model.add(Dense(1, activation='sigmoid'))\n"
   ]
  },
  {
   "cell_type": "code",
   "execution_count": 75,
   "id": "993e5597-1815-4704-b9c4-6c3e5ae7eb10",
   "metadata": {},
   "outputs": [],
   "source": [
    "# Compile the model with a lower learning rate\n",
    "model.compile(loss='binary_crossentropy', optimizer=Adam(learning_rate=1e-4), metrics=['accuracy'])\n",
    "\n"
   ]
  },
  {
   "cell_type": "code",
   "execution_count": 77,
   "id": "e85a14e3-f014-4262-86ab-51482a9952d1",
   "metadata": {},
   "outputs": [
    {
     "name": "stdout",
     "output_type": "stream",
     "text": [
      "Epoch 1/12\n",
      "\u001b[1m625/625\u001b[0m \u001b[32m━━━━━━━━━━━━━━━━━━━━\u001b[0m\u001b[37m\u001b[0m \u001b[1m124s\u001b[0m 192ms/step - accuracy: 0.5174 - loss: 0.8220 - val_accuracy: 0.5431 - val_loss: 0.6849\n",
      "Epoch 2/12\n",
      "\u001b[1m625/625\u001b[0m \u001b[32m━━━━━━━━━━━━━━━━━━━━\u001b[0m\u001b[37m\u001b[0m \u001b[1m122s\u001b[0m 195ms/step - accuracy: 0.6364 - loss: 0.6475 - val_accuracy: 0.7987 - val_loss: 0.4327\n",
      "Epoch 3/12\n",
      "\u001b[1m625/625\u001b[0m \u001b[32m━━━━━━━━━━━━━━━━━━━━\u001b[0m\u001b[37m\u001b[0m \u001b[1m122s\u001b[0m 196ms/step - accuracy: 0.7966 - loss: 0.4544 - val_accuracy: 0.8162 - val_loss: 0.4024\n",
      "Epoch 4/12\n",
      "\u001b[1m625/625\u001b[0m \u001b[32m━━━━━━━━━━━━━━━━━━━━\u001b[0m\u001b[37m\u001b[0m \u001b[1m122s\u001b[0m 196ms/step - accuracy: 0.8386 - loss: 0.3816 - val_accuracy: 0.8597 - val_loss: 0.3330\n",
      "Epoch 5/12\n",
      "\u001b[1m625/625\u001b[0m \u001b[32m━━━━━━━━━━━━━━━━━━━━\u001b[0m\u001b[37m\u001b[0m \u001b[1m125s\u001b[0m 200ms/step - accuracy: 0.8653 - loss: 0.3356 - val_accuracy: 0.8553 - val_loss: 0.3353\n",
      "Epoch 6/12\n",
      "\u001b[1m625/625\u001b[0m \u001b[32m━━━━━━━━━━━━━━━━━━━━\u001b[0m\u001b[37m\u001b[0m \u001b[1m124s\u001b[0m 199ms/step - accuracy: 0.8711 - loss: 0.3227 - val_accuracy: 0.8665 - val_loss: 0.3184\n",
      "Epoch 7/12\n",
      "\u001b[1m625/625\u001b[0m \u001b[32m━━━━━━━━━━━━━━━━━━━━\u001b[0m\u001b[37m\u001b[0m \u001b[1m125s\u001b[0m 200ms/step - accuracy: 0.8826 - loss: 0.3014 - val_accuracy: 0.8655 - val_loss: 0.3260\n",
      "Epoch 8/12\n",
      "\u001b[1m625/625\u001b[0m \u001b[32m━━━━━━━━━━━━━━━━━━━━\u001b[0m\u001b[37m\u001b[0m \u001b[1m126s\u001b[0m 202ms/step - accuracy: 0.8886 - loss: 0.2884 - val_accuracy: 0.8698 - val_loss: 0.3117\n",
      "Epoch 9/12\n",
      "\u001b[1m625/625\u001b[0m \u001b[32m━━━━━━━━━━━━━━━━━━━━\u001b[0m\u001b[37m\u001b[0m \u001b[1m127s\u001b[0m 203ms/step - accuracy: 0.8946 - loss: 0.2788 - val_accuracy: 0.8714 - val_loss: 0.3095\n",
      "Epoch 10/12\n",
      "\u001b[1m625/625\u001b[0m \u001b[32m━━━━━━━━━━━━━━━━━━━━\u001b[0m\u001b[37m\u001b[0m \u001b[1m126s\u001b[0m 201ms/step - accuracy: 0.8969 - loss: 0.2668 - val_accuracy: 0.8720 - val_loss: 0.3092\n",
      "Epoch 11/12\n",
      "\u001b[1m625/625\u001b[0m \u001b[32m━━━━━━━━━━━━━━━━━━━━\u001b[0m\u001b[37m\u001b[0m \u001b[1m128s\u001b[0m 204ms/step - accuracy: 0.9049 - loss: 0.2536 - val_accuracy: 0.8665 - val_loss: 0.3298\n",
      "Epoch 12/12\n",
      "\u001b[1m625/625\u001b[0m \u001b[32m━━━━━━━━━━━━━━━━━━━━\u001b[0m\u001b[37m\u001b[0m \u001b[1m142s\u001b[0m 227ms/step - accuracy: 0.9055 - loss: 0.2475 - val_accuracy: 0.8587 - val_loss: 0.3347\n"
     ]
    }
   ],
   "source": [
    "# Training the LSTM Model with early stopping\n",
    "from tensorflow.keras.callbacks import EarlyStopping\n",
    "early_stop = EarlyStopping(monitor='val_loss', patience=3, restore_best_weights=True)\n",
    "history = model.fit(X_train, y_train, epochs=12, batch_size=64, validation_data=(X_test, y_test),callbacks=[early_stop])\n"
   ]
  },
  {
   "cell_type": "code",
   "execution_count": 79,
   "id": "ab672bf2-e921-41b4-8987-9170418f5d1b",
   "metadata": {},
   "outputs": [
    {
     "name": "stderr",
     "output_type": "stream",
     "text": [
      "WARNING:absl:You are saving your model as an HDF5 file via `model.save()` or `keras.saving.save_model(model)`. This file format is considered legacy. We recommend using instead the native Keras format, e.g. `model.save('my_model.keras')` or `keras.saving.save_model(model, 'my_model.keras')`. \n"
     ]
    }
   ],
   "source": [
    "# Save the model\n",
    "model.save(\"Models/LSTM_movie_review_model.h5\")\n"
   ]
  },
  {
   "cell_type": "code",
   "execution_count": 81,
   "id": "33dcd8d4-4ed8-4112-9601-6310cebfe16a",
   "metadata": {},
   "outputs": [
    {
     "name": "stdout",
     "output_type": "stream",
     "text": [
      "\u001b[1m313/313\u001b[0m \u001b[32m━━━━━━━━━━━━━━━━━━━━\u001b[0m\u001b[37m\u001b[0m \u001b[1m12s\u001b[0m 39ms/step\n"
     ]
    }
   ],
   "source": [
    "# Model Evaluation\n",
    "ypred = model.predict(X_test)\n",
    "ypred = (ypred > 0.5).astype(int).flatten()\n"
   ]
  },
  {
   "cell_type": "code",
   "execution_count": 83,
   "id": "53a54558-5127-41ff-a44c-43186cd2d2f5",
   "metadata": {},
   "outputs": [
    {
     "name": "stdout",
     "output_type": "stream",
     "text": [
      "LSTM accuracy = 87.0 %\n"
     ]
    }
   ],
   "source": [
    "# Evaluate the accuracy\n",
    "print(f\"LSTM accuracy = {round(accuracy_score(y_test, ypred), 2) * 100} %\")\n"
   ]
  },
  {
   "cell_type": "code",
   "execution_count": 85,
   "id": "e000a4ec-68ac-4545-a504-de0d5a3d512d",
   "metadata": {},
   "outputs": [
    {
     "data": {
      "image/png": "[encoded data removed]",
      "text/plain": [
       "<Figure size 640x480 with 1 Axes>"
      ]
     },
     "metadata": {},
     "output_type": "display_data"
    }
   ],
   "source": [
    "# Plot accuracy over epochs\n",
    "plt.plot(history.history['accuracy'], label='Train Accuracy')\n",
    "plt.plot(history.history['val_accuracy'], label='Validation Accuracy')\n",
    "plt.title('Model Accuracy over Epochs')\n",
    "plt.ylabel('Accuracy')\n",
    "plt.xlabel('Epoch')\n",
    "plt.legend(loc='upper left')\n",
    "plt.show()"
   ]
  },
  {
   "cell_type": "code",
   "execution_count": 181,
   "id": "6d876520-59bc-4d86-a886-d6f07e9c70f1",
   "metadata": {},
   "outputs": [
    {
     "name": "stdin",
     "output_type": "stream",
     "text": [
      "Enter a movie review:  Best movie which I have seen in this 2-3 years after bahubali 2. Song are good and the story of the movie is unmatchable and too heart touching. Prabhash is my best actor and after bahubali it's become favourite actor for me and last scene of movie is too merorable. Thanks to the radhe shyam movie team to bring this lovely movie around us it must break all the records of the Indian cinema.\n"
     ]
    },
    {
     "name": "stderr",
     "output_type": "stream",
     "text": [
      "WARNING:absl:Compiled the loaded model, but the compiled metrics have yet to be built. `model.compile_metrics` will be empty until you train or evaluate the model.\n"
     ]
    },
    {
     "name": "stdout",
     "output_type": "stream",
     "text": [
      "\u001b[1m1/1\u001b[0m \u001b[32m━━━━━━━━━━━━━━━━━━━━\u001b[0m\u001b[37m\u001b[0m \u001b[1m0s\u001b[0m 307ms/step\n",
      "The review sentiment is Positive.\n"
     ]
    }
   ],
   "source": [
    "# Ask for user input (movie review)\n",
    "user_review = input(\"Enter a movie review: \")\n",
    "\n",
    "# Clean and preprocess the user review\n",
    "user_review_clean = clean(user_review)\n",
    "user_review_clean = is_special(user_review_clean)\n",
    "user_review_clean = to_lower(user_review_clean)\n",
    "user_review_clean = rem_stopwords(user_review_clean)\n",
    "user_review_clean = stem_txt(user_review_clean)\n",
    "\n",
    "# Tokenize and pad the user review\n",
    "user_review_sequence = tokenizer.texts_to_sequences([user_review_clean])\n",
    "user_review_padded = pad_sequences(user_review_sequence, maxlen=100)\n",
    "\n",
    "\n",
    "# Load the trained model\n",
    "model = load_model(\"Models/LSTM_movie_review_model.h5\")\n",
    "\n",
    "# Predict the sentiment of the user review\n",
    "prediction = model.predict(user_review_padded)\n",
    "\n",
    "# Output the prediction result\n",
    "\n",
    "if prediction > 0.55:\n",
    "    print(\"The review sentiment is Positive.\")\n",
    "elif (prediction >=0.45 and prediction<=0.55):\n",
    "    print(\"The review is Neutral\")\n",
    "else:\n",
    "    print(\"The review sentiment is Negative.\")\n",
    "\n",
    "#print(prediction)\n"
   ]
  },
  {
   "cell_type": "code",
   "execution_count": null,
   "id": "962cbcd1-83a4-420c-b83b-aeb7454fce06",
   "metadata": {},
   "outputs": [],
   "source": []
  }
 ],
 "metadata": {
  "kernelspec": {
   "display_name": "Python 3 (ipykernel)",
   "language": "python",
   "name": "python3"
  },
  "language_info": {
   "codemirror_mode": {
    "name": "ipython",
    "version": 3
   },
   "file_extension": ".py",
   "mimetype": "text/x-python",
   "name": "python",
   "nbconvert_exporter": "python",
   "pygments_lexer": "ipython3",
   "version": "3.11.5"
  }
 },
 "nbformat": 4,
 "nbformat_minor": 5
}
